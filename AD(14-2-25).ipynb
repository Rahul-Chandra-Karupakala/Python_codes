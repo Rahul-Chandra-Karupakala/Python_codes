{
 "cells": [
  {
   "cell_type": "code",
   "execution_count": 2,
   "id": "bb8be6d0-52f7-4858-a3ad-85da043ff809",
   "metadata": {},
   "outputs": [
    {
     "name": "stdout",
     "output_type": "stream",
     "text": [
      "Defaulting to user installation because normal site-packages is not writeable\n",
      "Collecting mlxtend\n",
      "  Downloading mlxtend-0.23.4-py3-none-any.whl.metadata (7.3 kB)\n",
      "Requirement already satisfied: scipy>=1.2.1 in c:\\users\\advai\\appdata\\roaming\\python\\python312\\site-packages (from mlxtend) (1.15.1)\n",
      "Requirement already satisfied: numpy>=1.16.2 in c:\\users\\advai\\appdata\\roaming\\python\\python312\\site-packages (from mlxtend) (2.2.2)\n",
      "Requirement already satisfied: pandas>=0.24.2 in c:\\users\\advai\\appdata\\roaming\\python\\python312\\site-packages (from mlxtend) (2.2.3)\n",
      "Requirement already satisfied: scikit-learn>=1.3.1 in c:\\users\\advai\\appdata\\roaming\\python\\python312\\site-packages (from mlxtend) (1.5.2)\n",
      "Requirement already satisfied: matplotlib>=3.0.0 in c:\\users\\advai\\appdata\\roaming\\python\\python312\\site-packages (from mlxtend) (3.9.2)\n",
      "Requirement already satisfied: joblib>=0.13.2 in c:\\users\\advai\\appdata\\roaming\\python\\python312\\site-packages (from mlxtend) (1.4.2)\n",
      "Requirement already satisfied: contourpy>=1.0.1 in c:\\users\\advai\\appdata\\roaming\\python\\python312\\site-packages (from matplotlib>=3.0.0->mlxtend) (1.3.0)\n",
      "Requirement already satisfied: cycler>=0.10 in c:\\users\\advai\\appdata\\roaming\\python\\python312\\site-packages (from matplotlib>=3.0.0->mlxtend) (0.12.1)\n",
      "Requirement already satisfied: fonttools>=4.22.0 in c:\\users\\advai\\appdata\\roaming\\python\\python312\\site-packages (from matplotlib>=3.0.0->mlxtend) (4.53.1)\n",
      "Requirement already satisfied: kiwisolver>=1.3.1 in c:\\users\\advai\\appdata\\roaming\\python\\python312\\site-packages (from matplotlib>=3.0.0->mlxtend) (1.4.7)\n",
      "Requirement already satisfied: packaging>=20.0 in c:\\users\\advai\\appdata\\roaming\\python\\python312\\site-packages (from matplotlib>=3.0.0->mlxtend) (24.2)\n",
      "Requirement already satisfied: pillow>=8 in c:\\users\\advai\\appdata\\roaming\\python\\python312\\site-packages (from matplotlib>=3.0.0->mlxtend) (10.4.0)\n",
      "Requirement already satisfied: pyparsing>=2.3.1 in c:\\users\\advai\\appdata\\roaming\\python\\python312\\site-packages (from matplotlib>=3.0.0->mlxtend) (3.1.4)\n",
      "Requirement already satisfied: python-dateutil>=2.7 in c:\\users\\advai\\appdata\\roaming\\python\\python312\\site-packages (from matplotlib>=3.0.0->mlxtend) (2.9.0.post0)\n",
      "Requirement already satisfied: pytz>=2020.1 in c:\\users\\advai\\appdata\\roaming\\python\\python312\\site-packages (from pandas>=0.24.2->mlxtend) (2025.1)\n",
      "Requirement already satisfied: tzdata>=2022.7 in c:\\users\\advai\\appdata\\roaming\\python\\python312\\site-packages (from pandas>=0.24.2->mlxtend) (2025.1)\n",
      "Requirement already satisfied: threadpoolctl>=3.1.0 in c:\\users\\advai\\appdata\\roaming\\python\\python312\\site-packages (from scikit-learn>=1.3.1->mlxtend) (3.5.0)\n",
      "Requirement already satisfied: six>=1.5 in c:\\users\\advai\\appdata\\roaming\\python\\python312\\site-packages (from python-dateutil>=2.7->matplotlib>=3.0.0->mlxtend) (1.17.0)\n",
      "Downloading mlxtend-0.23.4-py3-none-any.whl (1.4 MB)\n",
      "   ---------------------------------------- 0.0/1.4 MB ? eta -:--:--\n",
      "   ---------------------------------------- 1.4/1.4 MB 14.0 MB/s eta 0:00:00\n",
      "Installing collected packages: mlxtend\n",
      "Successfully installed mlxtend-0.23.4\n"
     ]
    },
    {
     "name": "stderr",
     "output_type": "stream",
     "text": [
      "\n",
      "[notice] A new release of pip is available: 25.0 -> 25.0.1\n",
      "[notice] To update, run: python.exe -m pip install --upgrade pip\n"
     ]
    }
   ],
   "source": [
    "!pip install mlxtend"
   ]
  },
  {
   "cell_type": "code",
   "execution_count": 8,
   "id": "61034236-a0cf-4113-b5b9-8311ecc6ea96",
   "metadata": {},
   "outputs": [],
   "source": [
    "import pandas as pd\n",
    "import numpy as np\n",
    "from mlxtend.frequent_patterns import apriori,association_rules\n"
   ]
  },
  {
   "cell_type": "code",
   "execution_count": 10,
   "id": "48ea924e-1181-45f1-b773-eb50b68f1468",
   "metadata": {},
   "outputs": [],
   "source": [
    "data=[\n",
    "    ['milk','bread','butter','jam'],\n",
    "    ['milk','cola','jam'],\n",
    "    ['bread','jam','butter'],\n",
    "    ['milk','diapers','bread','jam'],\n",
    "    ['milk','cola','beer'],\n",
    "    ['milk','bread','butter'],\n",
    "    ['bread','jam','butter','beer']\n",
    "]"
   ]
  },
  {
   "cell_type": "code",
   "execution_count": 12,
   "id": "5c3732fc-9721-4aad-b8f8-3f969a96ca97",
   "metadata": {},
   "outputs": [],
   "source": [
    "from mlxtend.preprocessing import TransactionEncoder"
   ]
  },
  {
   "cell_type": "code",
   "execution_count": null,
   "id": "5e1637b7-e383-4ebc-b8e6-5a70b4d57c69",
   "metadata": {},
   "outputs": [],
   "source": [
    "te = TransactionEncoder()\n",
    "df-te"
   ]
  }
 ],
 "metadata": {
  "kernelspec": {
   "display_name": "Python 3 (ipykernel)",
   "language": "python",
   "name": "python3"
  },
  "language_info": {
   "codemirror_mode": {
    "name": "ipython",
    "version": 3
   },
   "file_extension": ".py",
   "mimetype": "text/x-python",
   "name": "python",
   "nbconvert_exporter": "python",
   "pygments_lexer": "ipython3",
   "version": "3.12.7"
  }
 },
 "nbformat": 4,
 "nbformat_minor": 5
}
