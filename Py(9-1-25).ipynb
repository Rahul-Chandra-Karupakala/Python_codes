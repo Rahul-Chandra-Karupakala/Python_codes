{
 "cells": [
  {
   "cell_type": "markdown",
   "id": "55779213",
   "metadata": {},
   "source": [
    "if condition1:\n",
    "    task1 block of code\n",
    "elif condition2:\n",
    "    task2 block of code\n",
    "elid conditionN:\n",
    "    taskN block of code\n",
    "else:\n",
    "    default block of code"
   ]
  },
  {
   "cell_type": "code",
   "execution_count": 6,
   "id": "0bedb1c1",
   "metadata": {},
   "outputs": [
    {
     "name": "stdout",
     "output_type": "stream",
     "text": [
      "A\n"
     ]
    }
   ],
   "source": [
    "x=90\n",
    "if x>=90:\n",
    "    print(\"A\")\n",
    "    if X=100:\n",
    "        print(\"Full marks A+\")\n",
    "    elif x>=95\n",
    "elif x>=80:\n",
    "    print(\"B\")\n",
    "elif x>=70:\n",
    "    print(\"C\")\n",
    "else:\n",
    "    print(\"Fail\")"
   ]
  },
  {
   "cell_type": "code",
   "execution_count": 22,
   "id": "94978b09",
   "metadata": {},
   "outputs": [
    {
     "name": "stdout",
     "output_type": "stream",
     "text": [
      "pos\n",
      "M\n"
     ]
    }
   ],
   "source": [
    "x=21\n",
    "if x>0:\n",
    "    print(\"pos\")\n",
    "    if x>20:\n",
    "        print(\"M\")\n",
    "    elif x>10:\n",
    "        print(\"P\")\n",
    "    elif x<10:\n",
    "        print(\"K\")\n",
    "    else:\n",
    "        print(\"T\")\n",
    "elif x<0:\n",
    "    print(\"neg\")\n",
    "    if x<-20:\n",
    "        print(\"Q\")\n",
    "    elif x>-10:\n",
    "        print(\"C\")\n",
    "    elif x>-30:\n",
    "        print(\"Z\")\n",
    "else:\n",
    "    print(\"Zero\")"
   ]
  },
  {
   "cell_type": "code",
   "execution_count": 34,
   "id": "a02b237e",
   "metadata": {},
   "outputs": [
    {
     "name": "stdout",
     "output_type": "stream",
     "text": [
      "not t\n"
     ]
    }
   ],
   "source": [
    "if x[0] =='t':\n",
    "    print(\"True\")\n",
    "elif x[0] =='T':\n",
    "    print(\"False\")\n",
    "else:\n",
    "    print(\"not t\")"
   ]
  },
  {
   "cell_type": "code",
   "execution_count": 68,
   "id": "1fb807a1",
   "metadata": {},
   "outputs": [
    {
     "name": "stdout",
     "output_type": "stream",
     "text": [
      "NO\n"
     ]
    }
   ],
   "source": [
    "x='Pumbai'\n",
    "if x[0]=='t' or x[0]=='T' or x[0]=='s' or x[0]=='S' or x[0]=='m' or x[0]=='M':\n",
    "    print('Yes')\n",
    "else:\n",
    "    print('NO')"
   ]
  },
  {
   "cell_type": "code",
   "execution_count": 78,
   "id": "ec78f4e0",
   "metadata": {},
   "outputs": [
    {
     "name": "stdout",
     "output_type": "stream",
     "text": [
      "Yes\n"
     ]
    }
   ],
   "source": [
    "x='Snake'\n",
    "if x[0].lower() in ('s','t','m'):\n",
    "    print(\"Yes\")\n",
    "else:\n",
    "    print('No')"
   ]
  },
  {
   "cell_type": "code",
   "execution_count": null,
   "id": "5bb51460",
   "metadata": {},
   "outputs": [],
   "source": []
  }
 ],
 "metadata": {
  "kernelspec": {
   "display_name": "Python 3 (ipykernel)",
   "language": "python",
   "name": "python3"
  },
  "language_info": {
   "codemirror_mode": {
    "name": "ipython",
    "version": 3
   },
   "file_extension": ".py",
   "mimetype": "text/x-python",
   "name": "python",
   "nbconvert_exporter": "python",
   "pygments_lexer": "ipython3",
   "version": "3.11.5"
  }
 },
 "nbformat": 4,
 "nbformat_minor": 5
}
